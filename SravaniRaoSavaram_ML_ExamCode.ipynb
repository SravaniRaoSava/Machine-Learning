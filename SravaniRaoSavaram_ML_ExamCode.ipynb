{
 "cells": [
  {
   "cell_type": "code",
   "execution_count": 10,
   "id": "aa69b66f-5a40-41a1-9812-673c87688bc6",
   "metadata": {},
   "outputs": [
    {
     "name": "stdout",
     "output_type": "stream",
     "text": [
      "Dataset Information:\n",
      "<class 'pandas.core.frame.DataFrame'>\n",
      "RangeIndex: 25 entries, 0 to 24\n",
      "Data columns (total 4 columns):\n",
      " #   Column              Non-Null Count  Dtype \n",
      "---  ------              --------------  ----- \n",
      " 0   User_ID             25 non-null     int64 \n",
      " 1   Annual_Income       25 non-null     int64 \n",
      " 2   Credit_Score        25 non-null     int64 \n",
      " 3   Products_Purchased  25 non-null     object\n",
      "dtypes: int64(3), object(1)\n",
      "memory usage: 928.0+ bytes\n",
      "None\n",
      "\n",
      "Summary Statistics:\n",
      "         User_ID  Annual_Income  Credit_Score\n",
      "count  25.000000      25.000000     25.000000\n",
      "mean   13.000000   70600.000000    699.600000\n",
      "std     7.359801   15365.003525     51.192447\n",
      "min     1.000000   45000.000000    600.000000\n",
      "25%     7.000000   60000.000000    670.000000\n",
      "50%    13.000000   70000.000000    700.000000\n",
      "75%    19.000000   85000.000000    730.000000\n",
      "max    25.000000   95000.000000    780.000000\n",
      "\n",
      "Missing Values:\n",
      "User_ID               0\n",
      "Annual_Income         0\n",
      "Credit_Score          0\n",
      "Products_Purchased    0\n",
      "dtype: int64\n"
     ]
    },
    {
     "data": {
      "image/png": "[encoded data removed]",
      "text/plain": [
       "<Figure size 864x432 with 2 Axes>"
      ]
     },
     "metadata": {
      "needs_background": "light"
     },
     "output_type": "display_data"
    }
   ],
   "source": [
    "import pandas as pd\n",
    "import matplotlib.pyplot as plt\n",
    "\n",
    "\n",
    "# Step 1: Import the CSV file with tab delimiter\n",
    "file_path = '/Users/sravani/Desktop/Data Science (Masters)/Sem 3/ML/amazon_dataset.csv'  # Replace with the actual path to your CSV file\n",
    "data = pd.read_csv(file_path)\n",
    "\n",
    "\n",
    "# Step 2: Exploratory Data Analysis (EDA)\n",
    "# Display basic information about the dataset\n",
    "print(\"Dataset Information:\")\n",
    "print(data.info())\n",
    "\n",
    "# Display summary statistics\n",
    "print(\"\\nSummary Statistics:\")\n",
    "print(data.describe())\n",
    "\n",
    "# Check for missing values\n",
    "print(\"\\nMissing Values:\")\n",
    "print(data.isnull().sum())\n",
    "\n",
    "# Visualize the distribution of Annual Income and Credit Score\n",
    "plt.figure(figsize=(12, 6))\n",
    "\n",
    "plt.subplot(1, 2, 1)\n",
    "data['Annual_Income'].plot(kind='hist', bins=20, edgecolor='black')\n",
    "plt.title('Distribution of Annual Income')\n",
    "plt.xlabel('Annual Income')\n",
    "\n",
    "plt.subplot(1, 2, 2)\n",
    "data['Credit_Score'].plot(kind='hist', bins=20, edgecolor='black')\n",
    "plt.title('Distribution of Credit Score')\n",
    "plt.xlabel('Credit Score')\n",
    "\n",
    "plt.tight_layout()\n",
    "plt.show()\n",
    "\n",
    "# Step 3: Credit Card Approval\n",
    "# For example, set a credit score threshold for approval\n",
    "credit_score_threshold = 700\n",
    "data['Credit_Card_Approval'] = data['Credit_Score'] >= credit_score_threshold\n",
    "\n",
    "# Step 4: Product Recommendation\n",
    "# You can use more advanced methods here, like collaborative or content-based filtering\n",
    "\n",
    "# Step 5: Results and Conclusion\n",
    "# Present your findings and conclusions to a non-technical audience\n",
    "\n",
    "# Save the updated dataset with new columns\n",
    "data.to_csv('/Users/sravani/Desktop/Data Science (Masters)/Sem 3/ML/amazon_dataset_with_results1.csv', index=False)\n"
   ]
  },
  {
   "cell_type": "code",
   "execution_count": 11,
   "id": "c8056834-3a04-4e59-aa27-a4f96d1872a0",
   "metadata": {},
   "outputs": [
    {
     "name": "stdout",
     "output_type": "stream",
     "text": [
      "Product Recommendations:\n",
      "14    Furniture, Home Improvement\n",
      "17           Electronics, Gadgets\n",
      "24           Electronics, Cameras\n",
      "Name: Products_Purchased, dtype: object\n"
     ]
    }
   ],
   "source": [
    "import pandas as pd\n",
    "import matplotlib.pyplot as plt\n",
    "from sklearn.feature_extraction.text import TfidfVectorizer\n",
    "from sklearn.metrics.pairwise import linear_kernel\n",
    "\n",
    "# Step 1: Import the CSV file with tab delimiter\n",
    "file_path = '/Users/sravani/Desktop/Data Science (Masters)/Sem 3/ML/amazon_dataset.csv'  # Replace with the actual path to your CSV file\n",
    "data = pd.read_csv(file_path)\n",
    "\n",
    "# Step 2: Exploratory Data Analysis (EDA)\n",
    "# ... (same as before)\n",
    "\n",
    "# Step 3: Credit Card Approval\n",
    "# ... (same as before)\n",
    "\n",
    "# Step 4: Product Recommendation\n",
    "# Using content-based filtering based on \"Products_Purchased\" column\n",
    "tfidf_vectorizer = TfidfVectorizer(stop_words='english')\n",
    "tfidf_matrix = tfidf_vectorizer.fit_transform(data['Products_Purchased'].fillna(''))\n",
    "\n",
    "# Compute the cosine similarity matrix\n",
    "cosine_sim = linear_kernel(tfidf_matrix, tfidf_matrix)\n",
    "\n",
    "# Function to get product recommendations for a given product\n",
    "def get_product_recommendations(product_name, cosine_sim=cosine_sim):\n",
    "    idx = data[data['Products_Purchased'].str.contains(product_name, case=False)].index\n",
    "    sim_scores = list(enumerate(cosine_sim[idx][0]))\n",
    "    sim_scores = sorted(sim_scores, key=lambda x: x[1], reverse=True)\n",
    "    sim_scores = sim_scores[1:4]  # Get top 3 similar products\n",
    "    product_indices = [i[0] for i in sim_scores]\n",
    "    return data['Products_Purchased'].iloc[product_indices]\n",
    "\n",
    "# Example: Get product recommendations for \"Electronics\"\n",
    "product_recommendations = get_product_recommendations(\"Electronics\")\n",
    "print(\"Product Recommendations:\")\n",
    "print(product_recommendations)\n",
    "\n",
    "# Step 5: Results and Conclusion\n",
    "# ... (same as before)\n",
    "\n",
    "# Save the updated dataset with new columns\n",
    "data.to_csv('/Users/sravani/Desktop/Data Science (Masters)/Sem 3/ML/amazon_dataset_with_results2.csv', index=False)\n"
   ]
  },
  {
   "cell_type": "code",
   "execution_count": null,
   "id": "1bcd8b42-eea4-40b2-885b-dce50bb92056",
   "metadata": {},
   "outputs": [],
   "source": []
  }
 ],
 "metadata": {
  "kernelspec": {
   "display_name": "Python 3 (ipykernel)",
   "language": "python",
   "name": "python3"
  },
  "language_info": {
   "codemirror_mode": {
    "name": "ipython",
    "version": 3
   },
   "file_extension": ".py",
   "mimetype": "text/x-python",
   "name": "python",
   "nbconvert_exporter": "python",
   "pygments_lexer": "ipython3",
   "version": "3.9.7"
  }
 },
 "nbformat": 4,
 "nbformat_minor": 5
}
